{
 "cells": [
  {
   "cell_type": "markdown",
   "metadata": {},
   "source": [
    "# Setting Up Python Environment\n",
    "\n",
    "This notes provides step-wise guidance for installation and running python environment using anaconda.\n",
    "\n"
   ]
  },
  {
   "cell_type": "markdown",
   "metadata": {},
   "source": [
    "## 1.  Brief Overview of Annaconda \n",
    "\n",
    " [Anaconda Cheat Sheet](https://github.com/humnath5/Math_Data_Science/blob/master/Anaconda_CheatSheet.pdf)"
   ]
  },
  {
   "cell_type": "markdown",
   "metadata": {},
   "source": [
    "## 2. System Requirements\n",
    "\n",
    "- License: Free use and redistribution under the terms of the Anaconda End User License Agreement.\n",
    "\n",
    "- Operating system: Windows Vista or newer, 64-bit macOS 10.10+, or Linux, including Ubuntu.\n",
    "\n",
    "- System architecture: 64-bit x86, 32-bit x86 with Windows or Linux.\n",
    "\n",
    "- Minimum 3 GB disk space to download and install.\n"
   ]
  },
  {
   "cell_type": "markdown",
   "metadata": {},
   "source": [
    "## 3. Installation\n",
    "\n",
    "- [Annaconda for Widows Users](https://docs.anaconda.com/anaconda/install/windows)\n",
    "\n",
    "- [Annaconda for Mac Users](https://docs.anaconda.com/anaconda/install/mac-os)\n",
    "\n",
    "- [Annaconda for Linux Users](https://docs.anaconda.com/anaconda/install/linux)\n",
    "\n",
    "- [Verifying Annaconda Installation](https://docs.anaconda.com/anaconda/install/verify-install)\n",
    "\n",
    "- [User Guide](https://docs.anaconda.com/anaconda/user-guide/)\n",
    "\n"
   ]
  },
  {
   "cell_type": "markdown",
   "metadata": {},
   "source": [
    "## 4. Jupyter Tutorial \n",
    "[Jupyter Cheat Sheet](https://github.com/humnath5/Math_Data_Science/blob/master/Jupyter_Notebook_Cheat_Sheet.pdf)"
   ]
  },
  {
   "cell_type": "markdown",
   "metadata": {},
   "source": [
    "## 5. Markdown Tutorial\n",
    "[Markdown Cheat Sheet](https://github.com/humnath5/Math_Data_Science/blob/master/markdown-cheatsheet.pdf)"
   ]
  }
 ],
 "metadata": {
  "kernelspec": {
   "display_name": "Python 3",
   "language": "python",
   "name": "python3"
  },
  "language_info": {
   "codemirror_mode": {
    "name": "ipython",
    "version": 3
   },
   "file_extension": ".py",
   "mimetype": "text/x-python",
   "name": "python",
   "nbconvert_exporter": "python",
   "pygments_lexer": "ipython3",
   "version": "3.6.3"
  }
 },
 "nbformat": 4,
 "nbformat_minor": 2
}
